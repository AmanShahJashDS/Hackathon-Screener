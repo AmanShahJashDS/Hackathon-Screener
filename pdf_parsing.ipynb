{
 "cells": [
  {
   "cell_type": "code",
   "execution_count": 13,
   "metadata": {},
   "outputs": [],
   "source": [
    "import PyPDF2\n",
    "import getpass\n",
    "from langchain_anthropic import ChatAnthropic\n",
    "from dotenv import load_dotenv, find_dotenv\n",
    "import os"
   ]
  },
  {
   "cell_type": "code",
   "execution_count": 14,
   "metadata": {},
   "outputs": [],
   "source": [
    "# load API keys\n",
    "_ = load_dotenv(find_dotenv())\n",
    "# print(os.environ.get(\"ANTHROPIC_API_KEY\"))\n",
    "\n",
    "llm = ChatAnthropic(\n",
    "    model=\"claude-3-sonnet-20240229\",\n",
    "    temperature=0,\n",
    "    max_tokens=1024,\n",
    "    timeout=None,\n",
    "    max_retries=2,\n",
    "    # other params...\n",
    ")"
   ]
  },
  {
   "cell_type": "code",
   "execution_count": 15,
   "metadata": {},
   "outputs": [],
   "source": [
    "def extract_text_from_pdf(pdf_path):\n",
    "    # Open the PDF file\n",
    "    with open(pdf_path, 'rb') as file:\n",
    "        # Create a PDF reader object\n",
    "        pdf_reader = PyPDF2.PdfReader(file)\n",
    "\n",
    "        # Get the number of pages in the PDF\n",
    "        num_pages = len(pdf_reader.pages)\n",
    "\n",
    "        # Initialize a variable to store the extracted text\n",
    "        text = \"\"\n",
    "\n",
    "        # Loop through each page and extract text\n",
    "        for page_num in range(num_pages):\n",
    "            page = pdf_reader.pages[page_num]\n",
    "            text += page.extract_text()\n",
    "\n",
    "    return text\n"
   ]
  },
  {
   "cell_type": "code",
   "execution_count": 52,
   "metadata": {},
   "outputs": [],
   "source": [
    "def get_keywords_from_anthropic(resume_text, job_text):\n",
    "    messages = [\n",
    "    (\n",
    "        \"system\",\n",
    "        f\"You are a recruiter reviewing a candidates job profile.\",\n",
    "    ),\n",
    "    (\"human\", f\"This is a  resume : {resume_text}. Extract the following information from the given resume in a json. [The first key should be 'Years of Experience' if it doesn't show any experience or if the candidate is a recent graduate give 0 give me answer as one number and nothing else, The second key is 'Current Position' if any else return Student here,  and the third key is a 'Key Skills' this is a comma seprated list of five most relevant keyskills from this person's resume to this job description {job_text}. I only want skills that are present in the resume and relevant to the skills in {job_text} and it would be ideal if we have one skill from resume that is relevant to a different skill in {job_text}. All skills should be present in the resume]\")\n",
    "    ]\n",
    "    keywords = llm.invoke(messages)\n",
    "    return keywords\n"
   ]
  },
  {
   "cell_type": "code",
   "execution_count": 17,
   "metadata": {},
   "outputs": [
    {
     "data": {
      "text/plain": [
       "'First Last\\nAdm. No. 22JEXXXX ♂phoneXXX-XXX-XXXX\\n/envel⌢peﬁrstlast@gmail.com /linkedinlinkedin.com/in/ﬁrstlast /githubgithub.com/ﬁrstlast\\nEducation\\nUniversity Name Expected May 20XX\\nBachelor of Science in Computer Science (GPA: 4.00 / 4.00) City, State\\n•Relevant Coursework: Data Structures and Algorithms (C++), Prob & Stat in CS (Python), Intro to CS II (C++), Linear\\nAlgebra w/Computational Applications (Python)\\nExperience\\nCompany Name 1 Jan 20XX – May 20XX\\nSoftware Engineer City, State\\n•Implemented microservices architecture using Node.js and Express, improving API response time by 25% and\\nreducing server load by 30%.\\n•Led a cross-functional team in implementing a new feature using React and Redux, resulting in a 20% increase in\\nuser engagement within the ﬁrst month.\\n•Optimized MySQL database queries, reducing page load times by 15% and enhancing overall application\\nperformance.\\nProjects\\nProject Name 1 |React.js, Angular, Vue.js, Django, Flask, Ruby on Rails\\n•Led the development of a microservices-based e-commerce platform using Node.js, resulting in a 40% increase in\\ndaily transactions within the ﬁrst quarter.\\n•Designed and deployed a scalable RESTful API using Django and Django REST Framework, achieving a 30%\\nimprovement in data retrieval speed.\\n•Implemented a real-time chat feature using WebSocket and Socket.io, enhancing user engagement and reducing\\nresponse time by 20%.\\nProject Name 2 |Spring Boot, Express.js, TensorFlow, PyTorch, jQuery, Bootstrap\\n•Developed a data visualization dashboard using D3.js, providing stakeholders with real-time insights and improving\\ndecision-making processes.\\n•Built a CI/CD pipeline using Jenkins and Docker, reducing deployment time by 40% and ensuring consistent and\\nreliable releases.\\nTechnical Skills\\nLanguages : Rust, Kotlin, Swift, Go, Scala, TypeScript, R, Perl, Haskell, Groovy, Julia, Dart\\nTechnologies : React.js, Angular, Vue.js, Django, Flask, Ruby on Rails, Spring Boot, Express.js, TensorFlow, PyTorch, jQuery,\\nBootstrap, Laravel, Flask, ASP.NET, Node.js, Electron, Android SDK, iOS SDK, Symfony\\nConcepts : Compiler, Operating System, Virtual Memory, Cache Memory, Encryption, Decryption, Artiﬁcial Intelligence,\\nMachine Learning, Neural Networks, API, Database Normalization, Agile Methodology, Cloud Computing\\nAchievements\\n•Pls Add your Achvements here e.g., Hackathons, Exam Ranks, etc.\\nSocial Engagements\\nVice-President : Of Association of Exploration Geophysicist - Student Chapter, IIT Dhanbad\\nClub Member : at CYBER LABS -tech society of IIT Dhanbad\\nVolunteer : at KARTAVYA - NGO run by students of IIT Dhanbad to educate underprivileged childrens.\\nOrganisor :Concetto’22 (Tech-fest) Khanan’22 (Geo-Mining fest) .\\nSports-Engagements : Badminton(state-level) , chess , cricket ,table-tennis.'"
      ]
     },
     "execution_count": 17,
     "metadata": {},
     "output_type": "execute_result"
    }
   ],
   "source": [
    "pdf_path = 'dummy_resume.pdf'\n",
    "extracted_text = extract_text_from_pdf(pdf_path)\n",
    "extracted_text"
   ]
  },
  {
   "cell_type": "code",
   "execution_count": 18,
   "metadata": {},
   "outputs": [],
   "source": [
    "job_data = { \"job_skills\": \"Java,SpringBoot,OOPS,AWS,SQL\",\n",
    "         \"years_of_experience\": \"2\",\n",
    "         \"Job_title\" : \"Java Backend Engineer\"\n",
    "        }\n",
    "job_text = str(job_data)\n"
   ]
  },
  {
   "cell_type": "code",
   "execution_count": 53,
   "metadata": {},
   "outputs": [],
   "source": [
    "keyword_from_resume = get_keywords_from_anthropic(extracted_text, job_text)"
   ]
  },
  {
   "cell_type": "code",
   "execution_count": 54,
   "metadata": {},
   "outputs": [
    {
     "data": {
      "text/plain": [
       "{'Years of Experience': 0,\n",
       " 'Current Position': 'Student',\n",
       " 'Key Skills': 'Java, Spring Boot, SQL, TypeScript, React.js'}"
      ]
     },
     "execution_count": 54,
     "metadata": {},
     "output_type": "execute_result"
    }
   ],
   "source": [
    "import json\n",
    "json.loads(keyword_from_resume.content)"
   ]
  },
  {
   "cell_type": "code",
   "execution_count": 30,
   "metadata": {},
   "outputs": [],
   "source": []
  },
  {
   "cell_type": "code",
   "execution_count": null,
   "metadata": {},
   "outputs": [],
   "source": []
  }
 ],
 "metadata": {
  "kernelspec": {
   "display_name": "base",
   "language": "python",
   "name": "python3"
  },
  "language_info": {
   "codemirror_mode": {
    "name": "ipython",
    "version": 3
   },
   "file_extension": ".py",
   "mimetype": "text/x-python",
   "name": "python",
   "nbconvert_exporter": "python",
   "pygments_lexer": "ipython3",
   "version": "3.12.3"
  }
 },
 "nbformat": 4,
 "nbformat_minor": 2
}
