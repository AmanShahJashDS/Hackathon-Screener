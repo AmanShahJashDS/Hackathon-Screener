{
 "cells": [
  {
   "cell_type": "code",
   "execution_count": 4,
   "metadata": {},
   "outputs": [],
   "source": [
    "from langchain_anthropic import ChatAnthropic\n",
    "from dotenv import load_dotenv, find_dotenv\n",
    "import os\n",
    "\n",
    "# load API keys\n",
    "_ = load_dotenv(find_dotenv())\n",
    "\n",
    "# MODEL NAME\n",
    "MODEL_NAME = \"claude-3-opus-20240229\""
   ]
  },
  {
   "cell_type": "code",
   "execution_count": null,
   "metadata": {},
   "outputs": [],
   "source": [
    "llm = ChatAnthropic(\n",
    "    model=MODEL_NAME,\n",
    "    temperature=0,\n",
    "    max_tokens=1024,\n",
    "    timeout=None,\n",
    "    max_retries=2,\n",
    "    # other params...\n",
    ")"
   ]
  },
  {
   "cell_type": "code",
   "execution_count": 5,
   "metadata": {},
   "outputs": [
    {
     "name": "stdout",
     "output_type": "stream",
     "text": [
      "content='What is the difference between Euclidean distance and Cosine similarity when comparing vectors in linear algebra?' response_metadata={'id': 'msg_01PaLdJexrVNmLCWqUNAtCaw', 'model': 'claude-3-opus-20240229', 'stop_reason': 'end_turn', 'stop_sequence': None, 'usage': {'input_tokens': 514, 'output_tokens': 25}} id='run-7322be8f-7e0b-442e-9d3b-f62223a03f8d-0' usage_metadata={'input_tokens': 514, 'output_tokens': 25, 'total_tokens': 539}\n"
     ]
    }
   ],
   "source": [
    "# PROMPT\n",
    "messages = [\n",
    "    (\n",
    "        \"system\",\n",
    "        \"\"\"\n",
    "You are an AI interviewer whose job is to screen candidates based on their knowledge on data science. Data science is a wide field which involves various concepts like linear algebra, statistics, machine learning, deep learning, large language models and computer vision. Candidate might have mode expertise in particular area (mentioned above) based on the project the candidate has worked upon. Also, candidate can be fresher as well as experienced. One common thing to evaluate would be the basic fundamentals of data science which would include fundamentals of above mentioned concepts. Here are some common things to evaluate:\n",
    "1. Linear Algebra: hyperplane, cosine similarity of vectors, euclidean distance between vectors, dimensionality of vectors\n",
    "2. Statistics: mean, median, mode, correlation, normal distribution, Q-Q plot, central limit theorem\n",
    "3. ML fundamentals: supervised, unsupervised, dimensionality reduction techniques, bias variance trade off, evaluation metric in classification and regression, KNN, SVM, logistic regression, linear regression\n",
    "4. Deep learning fundamentals: gradient descent, variation in gradient descent, batch normalization, dropout, gradient clipping, activation functions\n",
    "5. Large Language Model: transformer architecture, RNN, LSTM, attention mechanism\n",
    "6. Computer Vision: convolution, kernels\n",
    "\n",
    "From the above 6 sections you can ask 5 questions, one from each section. You need to ask one question at a time wait for the users response. Once you receive response from the candidate you ask the next question.\n",
    "\n",
    "Instructions to follow:\n",
    "1. Directly start with question and do not add any additional text acknowledging the receipt of any answer or stating like lets move to next question\n",
    "2. Your job is to collect the answer received from the candidate. Do not add any comment on whether the answer is correct or not. This is not in your scope to evaluate the answer. Just move on to the next question.\n",
    "3. Once a question is asked by you, candidate is suppose to answer the question (correct or incorrect) doesn't matter. You should not try to explain your question or provide any answer even if asked. Just move to next question.\n",
    "4. Do not respond to any request made by the candidate. Stick to asking question as per the above instruction.\n",
    "5. Once all the 5 question are done, end the conversation with friendly note. Remember not to evaluate the candidate based on the answer.\n",
    "\"\"\",\n",
    "    ),\n",
    "    (\"human\", \"Hi\"),\n",
    "]\n"
   ]
  },
  {
   "cell_type": "code",
   "execution_count": null,
   "metadata": {},
   "outputs": [],
   "source": [
    "# INVOKE\n",
    "ai_msg = llm.invoke(messages)\n",
    "\n",
    "print(ai_msg)"
   ]
  }
 ],
 "metadata": {
  "kernelspec": {
   "display_name": "screener",
   "language": "python",
   "name": "python3"
  },
  "language_info": {
   "codemirror_mode": {
    "name": "ipython",
    "version": 3
   },
   "file_extension": ".py",
   "mimetype": "text/x-python",
   "name": "python",
   "nbconvert_exporter": "python",
   "pygments_lexer": "ipython3",
   "version": "3.12.3"
  }
 },
 "nbformat": 4,
 "nbformat_minor": 2
}
